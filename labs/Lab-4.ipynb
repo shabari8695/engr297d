{
 "cells": [
  {
   "cell_type": "code",
   "execution_count": 18,
   "metadata": {},
   "outputs": [
    {
     "name": "stdout",
     "output_type": "stream",
     "text": [
      "[1, 1, 0]\n"
     ]
    }
   ],
   "source": [
    "import tensorflow as tf\n",
    "import numpy as np\n",
    "d = 3\n",
    "def tf_reset():\n",
    "    try:\n",
    "        sess.close()\n",
    "    except:\n",
    "        pass\n",
    "    tf.reset_default_graph()\n",
    "    return tf.Session()\n",
    "\n",
    "data = np.array([[1,3,1,1],[1,1,3,1],[1,1,0.5,-1]])\n",
    "\n",
    "#Manual Predictions\n",
    "v1 = np.array([[-1.0],[1.0],[-1.0]])\n",
    "v2 = np.array([[-1.0],[-1.0],[1.0]])\n",
    "w1 = np.array([[1.0]])\n",
    "w2 = np.array([[1.0]])\n",
    "prediction = []\n",
    "for i in range(len(data)):\n",
    "    row = np.reshape(data[i,:3],(1,3))\n",
    "    h1 = 1 if row.dot(v1) > 0 else 0\n",
    "    h2 = 1 if row.dot(v2) > 0 else 0\n",
    "    prediction.append(1 if (h1*w1 + h2*w2)>0 else 0)\n",
    "\n",
    "prediction == data[:,3]\n",
    "print(prediction)"
   ]
  },
  {
   "cell_type": "code",
   "execution_count": 19,
   "metadata": {},
   "outputs": [],
   "source": [
    "out = np.array(data[:,3])\n",
    "out = np.reshape(out,(d,1))"
   ]
  },
  {
   "cell_type": "code",
   "execution_count": 29,
   "metadata": {},
   "outputs": [
    {
     "name": "stdout",
     "output_type": "stream",
     "text": [
      "[array([[ 0.9999857],\n",
      "       [ 0.9999738],\n",
      "       [-0.999939 ]], dtype=float32)]\n"
     ]
    }
   ],
   "source": [
    "sess = tf_reset()\n",
    "input_ph = tf.placeholder(dtype=tf.float32, shape=[None, 3])\n",
    "output_ph = tf.placeholder(dtype=tf.float32, shape=[None, 1])\n",
    "\n",
    "V1 = tf.get_variable(name='v1',shape=[3,1],initializer=tf.initializers.random_normal())\n",
    "#V1 = tf.get_variable(name='v1',initializer=v1)\n",
    "V2 = tf.get_variable(name='v2',shape=[3,1],initializer=tf.initializers.random_normal())\n",
    "\n",
    "W1 = tf.get_variable(name='w1',shape=[1,1],initializer=tf.initializers.random_normal())\n",
    "W2 = tf.get_variable(name='w2',shape=[1,1],initializer=tf.initializers.random_normal())\n",
    "\n",
    "h1 = tf.sigmoid(tf.matmul(input_ph,V1))\n",
    "h2 = tf.sigmoid(tf.matmul(input_ph,V2))\n",
    "\n",
    "tmp1 = tf.matmul(h1,W1)\n",
    "tmp2 = tf.matmul(h2,W2)\n",
    "\n",
    "f = tf.add(tmp1,tmp2)\n",
    "sess.run(tf.global_variables_initializer())\n",
    "\n",
    "loss = tf.reduce_mean(tf.square(f-output_ph))\n",
    "opt = tf.train.GradientDescentOptimizer(learning_rate = 0.03).minimize(loss)\n",
    "\n",
    "for i in range(2000):\n",
    "    _,mse = sess.run([opt,loss],feed_dict={input_ph : data[:,:3],output_ph:out})\n",
    "    \n",
    "pred = sess.run([f],feed_dict={input_ph:data[:,:3]})\n",
    "print(pred)"
   ]
  },
  {
   "cell_type": "code",
   "execution_count": null,
   "metadata": {},
   "outputs": [],
   "source": []
  },
  {
   "cell_type": "code",
   "execution_count": null,
   "metadata": {},
   "outputs": [],
   "source": []
  }
 ],
 "metadata": {
  "kernelspec": {
   "display_name": "Python 3",
   "language": "python",
   "name": "python3"
  },
  "language_info": {
   "codemirror_mode": {
    "name": "ipython",
    "version": 3
   },
   "file_extension": ".py",
   "mimetype": "text/x-python",
   "name": "python",
   "nbconvert_exporter": "python",
   "pygments_lexer": "ipython3",
   "version": "3.6.5"
  }
 },
 "nbformat": 4,
 "nbformat_minor": 2
}
